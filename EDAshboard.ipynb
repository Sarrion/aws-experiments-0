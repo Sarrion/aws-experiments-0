{
 "cells": [
  {
   "cell_type": "markdown",
   "metadata": {},
   "source": [
    "<h3>Install dependencies</h3>"
   ]
  },
  {
   "cell_type": "code",
   "execution_count": 2,
   "metadata": {
    "collapsed": true,
    "jupyter": {
     "outputs_hidden": true
    }
   },
   "outputs": [
    {
     "name": "stdout",
     "output_type": "stream",
     "text": [
      "Collecting dash-renderer\n",
      "\u001b[?25l  Downloading https://files.pythonhosted.org/packages/ab/5b/658abf6ec5287e87f8d4457af86c8d3b66a80dcc6af8acf46f9a011da98e/dash_renderer-1.2.3.tar.gz (1.1MB)\n",
      "\u001b[K     |████████████████████████████████| 1.1MB 28.7MB/s eta 0:00:01\n",
      "\u001b[?25hBuilding wheels for collected packages: dash-renderer\n",
      "  Building wheel for dash-renderer (setup.py) ... \u001b[?25ldone\n",
      "\u001b[?25h  Created wheel for dash-renderer: filename=dash_renderer-1.2.3-cp36-none-any.whl size=1146797 sha256=7b99fd8d058053b56e127fbf9d8fdaf47c4920ba69b3685ff7538cc25161ce25\n",
      "  Stored in directory: /home/ec2-user/.cache/pip/wheels/13/d8/04/14101d6c609890aa5bf850f142c93d9348deecd704dc7424fc\n",
      "Successfully built dash-renderer\n",
      "Installing collected packages: dash-renderer\n",
      "Successfully installed dash-renderer-1.2.3\n",
      "Collecting dash\n",
      "\u001b[?25l  Downloading https://files.pythonhosted.org/packages/92/6f/c9ab661b5de4fc8017c18c5734a04bea67f8f59b59c3f8923fb9d64afe93/dash-1.8.0.tar.gz (64kB)\n",
      "\u001b[K     |████████████████████████████████| 71kB 1.5MB/s  eta 0:00:01\n",
      "\u001b[?25hRequirement already satisfied: Flask>=1.0.2 in /home/ec2-user/anaconda3/envs/tensorflow_p36/lib/python3.6/site-packages (from dash) (1.0.2)\n",
      "Collecting flask-compress\n",
      "  Downloading https://files.pythonhosted.org/packages/0e/2a/378bd072928f6d92fd8c417d66b00c757dc361c0405a46a0134de6fd323d/Flask-Compress-1.4.0.tar.gz\n",
      "Requirement already satisfied: plotly in /home/ec2-user/anaconda3/envs/tensorflow_p36/lib/python3.6/site-packages (from dash) (4.3.0)\n",
      "Requirement already satisfied: dash_renderer==1.2.3 in /home/ec2-user/anaconda3/envs/tensorflow_p36/lib/python3.6/site-packages (from dash) (1.2.3)\n",
      "Collecting dash-core-components==1.7.0\n",
      "\u001b[?25l  Downloading https://files.pythonhosted.org/packages/86/51/393059083bb0277f95553e44db874e75a7ecfdda1364ca6d9870ebe676dc/dash_core_components-1.7.0.tar.gz (3.3MB)\n",
      "\u001b[K     |████████████████████████████████| 3.3MB 32.9MB/s eta 0:00:01\n",
      "\u001b[?25hCollecting dash-html-components==1.0.2\n",
      "\u001b[?25l  Downloading https://files.pythonhosted.org/packages/b4/9e/76988b02d09268495218639ad45dbfafe7dec8a52961278aeedaffb638ea/dash_html_components-1.0.2.tar.gz (187kB)\n",
      "\u001b[K     |████████████████████████████████| 194kB 49.8MB/s eta 0:00:01\n",
      "\u001b[?25hCollecting dash-table==4.6.0\n",
      "\u001b[?25l  Downloading https://files.pythonhosted.org/packages/48/e9/78aab443337f5e71dbb51738ac6ee603171230255fca0d150dd29ef0ea55/dash_table-4.6.0.tar.gz (1.8MB)\n",
      "\u001b[K     |████████████████████████████████| 1.8MB 47.2MB/s eta 0:00:01\n",
      "\u001b[?25hCollecting future\n",
      "\u001b[?25l  Downloading https://files.pythonhosted.org/packages/45/0b/38b06fd9b92dc2b68d58b75f900e97884c45bedd2ff83203d933cf5851c9/future-0.18.2.tar.gz (829kB)\n",
      "\u001b[K     |████████████████████████████████| 829kB 53.4MB/s eta 0:00:01\n",
      "\u001b[?25hRequirement already satisfied: Jinja2>=2.10 in /home/ec2-user/anaconda3/envs/tensorflow_p36/lib/python3.6/site-packages (from Flask>=1.0.2->dash) (2.10)\n",
      "Requirement already satisfied: Werkzeug>=0.14 in /home/ec2-user/anaconda3/envs/tensorflow_p36/lib/python3.6/site-packages (from Flask>=1.0.2->dash) (0.14.1)\n",
      "Requirement already satisfied: click>=5.1 in /home/ec2-user/anaconda3/envs/tensorflow_p36/lib/python3.6/site-packages (from Flask>=1.0.2->dash) (6.7)\n",
      "Requirement already satisfied: itsdangerous>=0.24 in /home/ec2-user/anaconda3/envs/tensorflow_p36/lib/python3.6/site-packages (from Flask>=1.0.2->dash) (0.24)\n",
      "Requirement already satisfied: six in /home/ec2-user/anaconda3/envs/tensorflow_p36/lib/python3.6/site-packages (from plotly->dash) (1.11.0)\n",
      "Requirement already satisfied: retrying>=1.3.3 in /home/ec2-user/anaconda3/envs/tensorflow_p36/lib/python3.6/site-packages (from plotly->dash) (1.3.3)\n",
      "Requirement already satisfied: MarkupSafe>=0.23 in /home/ec2-user/anaconda3/envs/tensorflow_p36/lib/python3.6/site-packages (from Jinja2>=2.10->Flask>=1.0.2->dash) (1.0)\n",
      "Building wheels for collected packages: dash, flask-compress, dash-core-components, dash-html-components, dash-table, future\n",
      "  Building wheel for dash (setup.py) ... \u001b[?25ldone\n",
      "\u001b[?25h  Created wheel for dash: filename=dash-1.8.0-cp36-none-any.whl size=70697 sha256=503aecd09e4d10b5860b45bbfc69d5af98c87682aa8dd74bc6affb172c2ae662\n",
      "  Stored in directory: /home/ec2-user/.cache/pip/wheels/ab/18/4f/810b70747c57b8dd0432a8801bd3a2f44bb7ed59a8b1947eca\n",
      "  Building wheel for flask-compress (setup.py) ... \u001b[?25ldone\n",
      "\u001b[?25h  Created wheel for flask-compress: filename=Flask_Compress-1.4.0-cp36-none-any.whl size=2865 sha256=763ef9466df45518bd05ac045e9f29d88ee67406ab62159afe187cb5cea2e866\n",
      "  Stored in directory: /home/ec2-user/.cache/pip/wheels/96/32/88/a1f6d9dd3c29570ab3a8acc0d556b3b20abcf3c623c868ce0a\n",
      "  Building wheel for dash-core-components (setup.py) ... \u001b[?25ldone\n",
      "\u001b[?25h  Created wheel for dash-core-components: filename=dash_core_components-1.7.0-cp36-none-any.whl size=3381131 sha256=5bcff155c8fa7f85a106c82927f73a6f40e1cedc81749460c7bdebfc84e2ed0b\n",
      "  Stored in directory: /home/ec2-user/.cache/pip/wheels/c9/66/36/d1dad9c51a7bca4b8e719b3e322fe23a3c4ea238c5621c76fb\n",
      "  Building wheel for dash-html-components (setup.py) ... \u001b[?25ldone\n",
      "\u001b[?25h  Created wheel for dash-html-components: filename=dash_html_components-1.0.2-cp36-none-any.whl size=427058 sha256=ca74879f02fd5b8a8903dff10537fc36e0c758083692e5ae89623ccf58b4c1b6\n",
      "  Stored in directory: /home/ec2-user/.cache/pip/wheels/59/6d/79/e8fbded6c6102c00ef0d58a278a488d913d30c51ae95dbef90\n",
      "  Building wheel for dash-table (setup.py) ... \u001b[?25ldone\n",
      "\u001b[?25h  Created wheel for dash-table: filename=dash_table-4.6.0-cp36-none-any.whl size=1773653 sha256=589c89a95f30cb385213710d99cb1f3d4afa18822e31db9e7f5a9595b3b3614a\n",
      "  Stored in directory: /home/ec2-user/.cache/pip/wheels/19/75/9b/3ee8716c87d804c80755616e09e2a845999ecd40ea70662e87\n",
      "  Building wheel for future (setup.py) ... \u001b[?25ldone\n",
      "\u001b[?25h  Created wheel for future: filename=future-0.18.2-cp36-none-any.whl size=491095 sha256=30c65dcdccc086e1c79a902ecaa2d0e068580039a6d3078df55bbc3cb9c637ff\n",
      "  Stored in directory: /home/ec2-user/.cache/pip/wheels/8b/99/a0/81daf51dcd359a9377b110a8a886b3895921802d2fc1b2397e\n",
      "Successfully built dash flask-compress dash-core-components dash-html-components dash-table future\n",
      "Installing collected packages: flask-compress, dash-core-components, dash-html-components, dash-table, future, dash\n",
      "Successfully installed dash-1.8.0 dash-core-components-1.7.0 dash-html-components-1.0.2 dash-table-4.6.0 flask-compress-1.4.0 future-0.18.2\n",
      "Requirement already satisfied: dash-html-components in /home/ec2-user/anaconda3/envs/tensorflow_p36/lib/python3.6/site-packages (1.0.2)\n",
      "Requirement already satisfied: dash-core-components in /home/ec2-user/anaconda3/envs/tensorflow_p36/lib/python3.6/site-packages (1.7.0)\n",
      "Requirement already satisfied: plotly in /home/ec2-user/anaconda3/envs/tensorflow_p36/lib/python3.6/site-packages (4.3.0)\n",
      "Requirement already satisfied: retrying>=1.3.3 in /home/ec2-user/anaconda3/envs/tensorflow_p36/lib/python3.6/site-packages (from plotly) (1.3.3)\n",
      "Requirement already satisfied: six in /home/ec2-user/anaconda3/envs/tensorflow_p36/lib/python3.6/site-packages (from plotly) (1.11.0)\n",
      "Collecting jupyterlab-dash==0.1.0a3\n",
      "  Downloading https://files.pythonhosted.org/packages/93/16/97608d312dd85170c140e17b304433919cbd5635f86c8d533cb015e9c240/jupyterlab_dash-0.1.0a3-py3-none-any.whl\n",
      "Collecting jupyter-server-proxy\n",
      "  Downloading https://files.pythonhosted.org/packages/79/08/2ad70df35d665971c02694b899c2247ed4ce50c85e40262f8c3f83581236/jupyter-server-proxy-1.2.0.tar.gz\n",
      "Requirement already satisfied: dash in /home/ec2-user/anaconda3/envs/tensorflow_p36/lib/python3.6/site-packages (from jupyterlab-dash==0.1.0a3) (1.8.0)\n",
      "Requirement already satisfied: notebook in /home/ec2-user/anaconda3/envs/tensorflow_p36/lib/python3.6/site-packages (from jupyter-server-proxy->jupyterlab-dash==0.1.0a3) (5.5.0)\n",
      "Collecting simpervisor>=0.2\n",
      "  Downloading https://files.pythonhosted.org/packages/87/81/a0e9cb5001fbd95c7d9f1799b680b867ece65866b1933f9967d622a69fcd/simpervisor-0.3.tar.gz\n",
      "Collecting aiohttp\n",
      "\u001b[?25l  Downloading https://files.pythonhosted.org/packages/7c/39/7eb5f98d24904e0f6d3edb505d4aa60e3ef83c0a58d6fe18244a51757247/aiohttp-3.6.2-cp36-cp36m-manylinux1_x86_64.whl (1.2MB)\n",
      "\u001b[K     |████████████████████████████████| 1.2MB 41.8MB/s eta 0:00:01\n",
      "\u001b[?25hRequirement already satisfied: Flask>=1.0.2 in /home/ec2-user/anaconda3/envs/tensorflow_p36/lib/python3.6/site-packages (from dash->jupyterlab-dash==0.1.0a3) (1.0.2)\n",
      "Requirement already satisfied: dash-html-components==1.0.2 in /home/ec2-user/anaconda3/envs/tensorflow_p36/lib/python3.6/site-packages (from dash->jupyterlab-dash==0.1.0a3) (1.0.2)\n",
      "Requirement already satisfied: flask-compress in /home/ec2-user/anaconda3/envs/tensorflow_p36/lib/python3.6/site-packages (from dash->jupyterlab-dash==0.1.0a3) (1.4.0)\n",
      "Requirement already satisfied: dash-core-components==1.7.0 in /home/ec2-user/anaconda3/envs/tensorflow_p36/lib/python3.6/site-packages (from dash->jupyterlab-dash==0.1.0a3) (1.7.0)\n",
      "Requirement already satisfied: dash-table==4.6.0 in /home/ec2-user/anaconda3/envs/tensorflow_p36/lib/python3.6/site-packages (from dash->jupyterlab-dash==0.1.0a3) (4.6.0)\n",
      "Requirement already satisfied: dash-renderer==1.2.3 in /home/ec2-user/anaconda3/envs/tensorflow_p36/lib/python3.6/site-packages (from dash->jupyterlab-dash==0.1.0a3) (1.2.3)\n",
      "Requirement already satisfied: future in /home/ec2-user/anaconda3/envs/tensorflow_p36/lib/python3.6/site-packages (from dash->jupyterlab-dash==0.1.0a3) (0.18.2)\n",
      "Requirement already satisfied: plotly in /home/ec2-user/anaconda3/envs/tensorflow_p36/lib/python3.6/site-packages (from dash->jupyterlab-dash==0.1.0a3) (4.3.0)\n",
      "Requirement already satisfied: jupyter-core>=4.4.0 in /home/ec2-user/anaconda3/envs/tensorflow_p36/lib/python3.6/site-packages (from notebook->jupyter-server-proxy->jupyterlab-dash==0.1.0a3) (4.4.0)\n",
      "Requirement already satisfied: ipykernel in /home/ec2-user/anaconda3/envs/tensorflow_p36/lib/python3.6/site-packages (from notebook->jupyter-server-proxy->jupyterlab-dash==0.1.0a3) (4.8.2)\n",
      "Requirement already satisfied: traitlets>=4.2.1 in /home/ec2-user/anaconda3/envs/tensorflow_p36/lib/python3.6/site-packages (from notebook->jupyter-server-proxy->jupyterlab-dash==0.1.0a3) (4.3.2)\n",
      "Requirement already satisfied: tornado>=4 in /home/ec2-user/anaconda3/envs/tensorflow_p36/lib/python3.6/site-packages (from notebook->jupyter-server-proxy->jupyterlab-dash==0.1.0a3) (5.0.2)\n",
      "Requirement already satisfied: jupyter-client>=5.2.0 in /home/ec2-user/anaconda3/envs/tensorflow_p36/lib/python3.6/site-packages (from notebook->jupyter-server-proxy->jupyterlab-dash==0.1.0a3) (5.2.3)\n",
      "Requirement already satisfied: Send2Trash in /home/ec2-user/anaconda3/envs/tensorflow_p36/lib/python3.6/site-packages (from notebook->jupyter-server-proxy->jupyterlab-dash==0.1.0a3) (1.5.0)\n",
      "Requirement already satisfied: terminado>=0.8.1 in /home/ec2-user/anaconda3/envs/tensorflow_p36/lib/python3.6/site-packages (from notebook->jupyter-server-proxy->jupyterlab-dash==0.1.0a3) (0.8.1)\n",
      "Requirement already satisfied: jinja2 in /home/ec2-user/anaconda3/envs/tensorflow_p36/lib/python3.6/site-packages (from notebook->jupyter-server-proxy->jupyterlab-dash==0.1.0a3) (2.10)\n",
      "Requirement already satisfied: pyzmq>=17 in /home/ec2-user/anaconda3/envs/tensorflow_p36/lib/python3.6/site-packages (from notebook->jupyter-server-proxy->jupyterlab-dash==0.1.0a3) (17.0.0)\n",
      "Requirement already satisfied: nbconvert in /home/ec2-user/anaconda3/envs/tensorflow_p36/lib/python3.6/site-packages (from notebook->jupyter-server-proxy->jupyterlab-dash==0.1.0a3) (5.4.1)\n",
      "Requirement already satisfied: ipython-genutils in /home/ec2-user/anaconda3/envs/tensorflow_p36/lib/python3.6/site-packages (from notebook->jupyter-server-proxy->jupyterlab-dash==0.1.0a3) (0.2.0)\n",
      "Requirement already satisfied: nbformat in /home/ec2-user/anaconda3/envs/tensorflow_p36/lib/python3.6/site-packages (from notebook->jupyter-server-proxy->jupyterlab-dash==0.1.0a3) (4.4.0)\n",
      "Collecting multidict<5.0,>=4.5\n",
      "\u001b[?25l  Downloading https://files.pythonhosted.org/packages/06/5a/d423c846bb839105143d4cd90da19d0f3fc972c51be651f92ac419a20698/multidict-4.7.4-cp36-cp36m-manylinux1_x86_64.whl (147kB)\n",
      "\u001b[K     |████████████████████████████████| 153kB 55.5MB/s eta 0:00:01\n",
      "\u001b[?25hCollecting idna-ssl>=1.0; python_version < \"3.7\"\n",
      "  Downloading https://files.pythonhosted.org/packages/46/03/07c4894aae38b0de52b52586b24bf189bb83e4ddabfe2e2c8f2419eec6f4/idna-ssl-1.1.0.tar.gz\n",
      "Collecting typing-extensions>=3.6.5; python_version < \"3.7\"\n",
      "  Downloading https://files.pythonhosted.org/packages/03/92/705fe8aca27678e01bbdd7738173b8e7df0088a2202c80352f664630d638/typing_extensions-3.7.4.1-py3-none-any.whl\n",
      "Collecting async-timeout<4.0,>=3.0\n",
      "  Downloading https://files.pythonhosted.org/packages/e1/1e/5a4441be21b0726c4464f3f23c8b19628372f606755a9d2e46c187e65ec4/async_timeout-3.0.1-py3-none-any.whl\n",
      "Collecting yarl<2.0,>=1.0\n",
      "\u001b[?25l  Downloading https://files.pythonhosted.org/packages/95/8f/0209fc5d975f839344c33c822ff2f7ef80f6b1e984673a5a68f960bfa583/yarl-1.4.2-cp36-cp36m-manylinux1_x86_64.whl (252kB)\n",
      "\u001b[K     |████████████████████████████████| 256kB 46.2MB/s eta 0:00:01\n",
      "\u001b[?25hRequirement already satisfied: attrs>=17.3.0 in /home/ec2-user/anaconda3/envs/tensorflow_p36/lib/python3.6/site-packages (from aiohttp->jupyter-server-proxy->jupyterlab-dash==0.1.0a3) (18.1.0)\n",
      "Requirement already satisfied: chardet<4.0,>=2.0 in /home/ec2-user/anaconda3/envs/tensorflow_p36/lib/python3.6/site-packages (from aiohttp->jupyter-server-proxy->jupyterlab-dash==0.1.0a3) (3.0.4)\n",
      "Requirement already satisfied: itsdangerous>=0.24 in /home/ec2-user/anaconda3/envs/tensorflow_p36/lib/python3.6/site-packages (from Flask>=1.0.2->dash->jupyterlab-dash==0.1.0a3) (0.24)\n",
      "Requirement already satisfied: click>=5.1 in /home/ec2-user/anaconda3/envs/tensorflow_p36/lib/python3.6/site-packages (from Flask>=1.0.2->dash->jupyterlab-dash==0.1.0a3) (6.7)\n",
      "Requirement already satisfied: Werkzeug>=0.14 in /home/ec2-user/anaconda3/envs/tensorflow_p36/lib/python3.6/site-packages (from Flask>=1.0.2->dash->jupyterlab-dash==0.1.0a3) (0.14.1)\n",
      "Requirement already satisfied: retrying>=1.3.3 in /home/ec2-user/anaconda3/envs/tensorflow_p36/lib/python3.6/site-packages (from plotly->dash->jupyterlab-dash==0.1.0a3) (1.3.3)\n",
      "Requirement already satisfied: six in /home/ec2-user/anaconda3/envs/tensorflow_p36/lib/python3.6/site-packages (from plotly->dash->jupyterlab-dash==0.1.0a3) (1.11.0)\n",
      "Requirement already satisfied: ipython>=4.0.0 in /home/ec2-user/anaconda3/envs/tensorflow_p36/lib/python3.6/site-packages (from ipykernel->notebook->jupyter-server-proxy->jupyterlab-dash==0.1.0a3) (6.4.0)\n",
      "Requirement already satisfied: decorator in /home/ec2-user/anaconda3/envs/tensorflow_p36/lib/python3.6/site-packages (from traitlets>=4.2.1->notebook->jupyter-server-proxy->jupyterlab-dash==0.1.0a3) (4.3.0)\n",
      "Requirement already satisfied: python-dateutil>=2.1 in /home/ec2-user/anaconda3/envs/tensorflow_p36/lib/python3.6/site-packages (from jupyter-client>=5.2.0->notebook->jupyter-server-proxy->jupyterlab-dash==0.1.0a3) (2.7.3)\n",
      "Requirement already satisfied: MarkupSafe>=0.23 in /home/ec2-user/anaconda3/envs/tensorflow_p36/lib/python3.6/site-packages (from jinja2->notebook->jupyter-server-proxy->jupyterlab-dash==0.1.0a3) (1.0)\n",
      "Requirement already satisfied: mistune>=0.8.1 in /home/ec2-user/anaconda3/envs/tensorflow_p36/lib/python3.6/site-packages (from nbconvert->notebook->jupyter-server-proxy->jupyterlab-dash==0.1.0a3) (0.8.3)\n",
      "Requirement already satisfied: pygments in /home/ec2-user/anaconda3/envs/tensorflow_p36/lib/python3.6/site-packages (from nbconvert->notebook->jupyter-server-proxy->jupyterlab-dash==0.1.0a3) (2.2.0)\n",
      "Requirement already satisfied: entrypoints>=0.2.2 in /home/ec2-user/anaconda3/envs/tensorflow_p36/lib/python3.6/site-packages (from nbconvert->notebook->jupyter-server-proxy->jupyterlab-dash==0.1.0a3) (0.2.3)\n",
      "Requirement already satisfied: bleach in /home/ec2-user/anaconda3/envs/tensorflow_p36/lib/python3.6/site-packages (from nbconvert->notebook->jupyter-server-proxy->jupyterlab-dash==0.1.0a3) (2.1.3)\n",
      "Requirement already satisfied: pandocfilters>=1.4.1 in /home/ec2-user/anaconda3/envs/tensorflow_p36/lib/python3.6/site-packages (from nbconvert->notebook->jupyter-server-proxy->jupyterlab-dash==0.1.0a3) (1.4.2)\n",
      "Requirement already satisfied: testpath in /home/ec2-user/anaconda3/envs/tensorflow_p36/lib/python3.6/site-packages (from nbconvert->notebook->jupyter-server-proxy->jupyterlab-dash==0.1.0a3) (0.3.1)\n",
      "Requirement already satisfied: defusedxml in /home/ec2-user/anaconda3/envs/tensorflow_p36/lib/python3.6/site-packages (from nbconvert->notebook->jupyter-server-proxy->jupyterlab-dash==0.1.0a3) (0.6.0)\n",
      "Requirement already satisfied: jsonschema!=2.5.0,>=2.4 in /home/ec2-user/anaconda3/envs/tensorflow_p36/lib/python3.6/site-packages (from nbformat->notebook->jupyter-server-proxy->jupyterlab-dash==0.1.0a3) (2.6.0)\n",
      "Requirement already satisfied: idna>=2.0 in /home/ec2-user/anaconda3/envs/tensorflow_p36/lib/python3.6/site-packages (from idna-ssl>=1.0; python_version < \"3.7\"->aiohttp->jupyter-server-proxy->jupyterlab-dash==0.1.0a3) (2.6)\n",
      "Requirement already satisfied: pickleshare in /home/ec2-user/anaconda3/envs/tensorflow_p36/lib/python3.6/site-packages (from ipython>=4.0.0->ipykernel->notebook->jupyter-server-proxy->jupyterlab-dash==0.1.0a3) (0.7.4)\n",
      "Requirement already satisfied: prompt-toolkit<2.0.0,>=1.0.15 in /home/ec2-user/anaconda3/envs/tensorflow_p36/lib/python3.6/site-packages (from ipython>=4.0.0->ipykernel->notebook->jupyter-server-proxy->jupyterlab-dash==0.1.0a3) (1.0.15)\n",
      "Requirement already satisfied: backcall in /home/ec2-user/anaconda3/envs/tensorflow_p36/lib/python3.6/site-packages (from ipython>=4.0.0->ipykernel->notebook->jupyter-server-proxy->jupyterlab-dash==0.1.0a3) (0.1.0)\n",
      "Requirement already satisfied: jedi>=0.10 in /home/ec2-user/anaconda3/envs/tensorflow_p36/lib/python3.6/site-packages (from ipython>=4.0.0->ipykernel->notebook->jupyter-server-proxy->jupyterlab-dash==0.1.0a3) (0.12.0)\n",
      "Requirement already satisfied: setuptools>=18.5 in /home/ec2-user/anaconda3/envs/tensorflow_p36/lib/python3.6/site-packages (from ipython>=4.0.0->ipykernel->notebook->jupyter-server-proxy->jupyterlab-dash==0.1.0a3) (41.6.0)\n",
      "Requirement already satisfied: pexpect; sys_platform != \"win32\" in /home/ec2-user/anaconda3/envs/tensorflow_p36/lib/python3.6/site-packages (from ipython>=4.0.0->ipykernel->notebook->jupyter-server-proxy->jupyterlab-dash==0.1.0a3) (4.5.0)\n",
      "Requirement already satisfied: simplegeneric>0.8 in /home/ec2-user/anaconda3/envs/tensorflow_p36/lib/python3.6/site-packages (from ipython>=4.0.0->ipykernel->notebook->jupyter-server-proxy->jupyterlab-dash==0.1.0a3) (0.8.1)\n",
      "Requirement already satisfied: html5lib!=1.0b1,!=1.0b2,!=1.0b3,!=1.0b4,!=1.0b5,!=1.0b6,!=1.0b7,!=1.0b8,>=0.99999999pre in /home/ec2-user/anaconda3/envs/tensorflow_p36/lib/python3.6/site-packages (from bleach->nbconvert->notebook->jupyter-server-proxy->jupyterlab-dash==0.1.0a3) (1.0.1)\n",
      "Requirement already satisfied: wcwidth in /home/ec2-user/anaconda3/envs/tensorflow_p36/lib/python3.6/site-packages (from prompt-toolkit<2.0.0,>=1.0.15->ipython>=4.0.0->ipykernel->notebook->jupyter-server-proxy->jupyterlab-dash==0.1.0a3) (0.1.7)\n",
      "Requirement already satisfied: parso>=0.2.0 in /home/ec2-user/anaconda3/envs/tensorflow_p36/lib/python3.6/site-packages (from jedi>=0.10->ipython>=4.0.0->ipykernel->notebook->jupyter-server-proxy->jupyterlab-dash==0.1.0a3) (0.2.0)\n",
      "Requirement already satisfied: ptyprocess>=0.5 in /home/ec2-user/anaconda3/envs/tensorflow_p36/lib/python3.6/site-packages (from pexpect; sys_platform != \"win32\"->ipython>=4.0.0->ipykernel->notebook->jupyter-server-proxy->jupyterlab-dash==0.1.0a3) (0.5.2)\n",
      "Requirement already satisfied: webencodings in /home/ec2-user/anaconda3/envs/tensorflow_p36/lib/python3.6/site-packages (from html5lib!=1.0b1,!=1.0b2,!=1.0b3,!=1.0b4,!=1.0b5,!=1.0b6,!=1.0b7,!=1.0b8,>=0.99999999pre->bleach->nbconvert->notebook->jupyter-server-proxy->jupyterlab-dash==0.1.0a3) (0.5.1)\n",
      "Building wheels for collected packages: jupyter-server-proxy, simpervisor, idna-ssl\n",
      "  Building wheel for jupyter-server-proxy (setup.py) ... \u001b[?25ldone\n",
      "\u001b[?25h  Created wheel for jupyter-server-proxy: filename=jupyter_server_proxy-1.2.0-cp36-none-any.whl size=16660 sha256=26d3b52add0b85e4caabf7dd725c0f194229ff12915177eb6317193ee774dfdd\n",
      "  Stored in directory: /home/ec2-user/.cache/pip/wheels/c0/4b/8a/0c16c1ea15d25039985bc3cb7be3323d32fbf085a63f4e6266\n",
      "  Building wheel for simpervisor (setup.py) ... \u001b[?25ldone\n",
      "\u001b[?25h  Created wheel for simpervisor: filename=simpervisor-0.3-cp36-none-any.whl size=5203 sha256=2de6107402eb8a93d2bee7aa58feb26bac8407100b3b6a3f017ae453568731f7\n",
      "  Stored in directory: /home/ec2-user/.cache/pip/wheels/80/36/bc/7bf2d3b5b367c5a3492dc6308304e19c48b102e39597bb90a6\n",
      "  Building wheel for idna-ssl (setup.py) ... \u001b[?25ldone\n",
      "\u001b[?25h  Created wheel for idna-ssl: filename=idna_ssl-1.1.0-cp36-none-any.whl size=2311 sha256=fcc85fa0356c1a14236295b3446afb1466f3b31efbacae9120682df5c80d0ea5\n",
      "  Stored in directory: /home/ec2-user/.cache/pip/wheels/d3/00/b3/32d613e19e08a739751dd6bf998cfed277728f8b2127ad4eb7\n",
      "Successfully built jupyter-server-proxy simpervisor idna-ssl\n",
      "Installing collected packages: simpervisor, multidict, idna-ssl, typing-extensions, async-timeout, yarl, aiohttp, jupyter-server-proxy, jupyterlab-dash\n",
      "Successfully installed aiohttp-3.6.2 async-timeout-3.0.1 idna-ssl-1.1.0 jupyter-server-proxy-1.2.0 jupyterlab-dash-0.1.0a3 multidict-4.7.4 simpervisor-0.3 typing-extensions-3.7.4.1 yarl-1.4.2\n"
     ]
    },
    {
     "data": {
      "text/plain": [
       "'\\nOpen the Jupyter/JupyterLab Terminal and type following\\n\\nsource /home/ec2-user/anaconda3/bin/activate /home/ec2-user/anaconda3/envs/JupyterSystemEnv \\nyou will be logged into JupyterSystemEnv Conda environment after that type below command,\\n\\njupyter labextension install jupyterlab_dash \\nNow refresh the browser, you should be able to use all vim shortcuts listed in jupyterlab-dash\\n'"
      ]
     },
     "execution_count": 2,
     "metadata": {},
     "output_type": "execute_result"
    }
   ],
   "source": [
    "!pip install dash-renderer\n",
    "!pip install dash\n",
    "!pip install dash-html-components\n",
    "!pip install dash-core-components\n",
    "!pip install plotly\n",
    "!pip install jupyterlab-dash==0.1.0a3\n",
    "\n",
    "'''\n",
    "Open the Jupyter/JupyterLab Terminal and type following\n",
    "\n",
    "source /home/ec2-user/anaconda3/bin/activate /home/ec2-user/anaconda3/envs/JupyterSystemEnv \n",
    "you will be logged into JupyterSystemEnv Conda environment after that type below command,\n",
    "\n",
    "jupyter labextension install jupyterlab-dash \n",
    "Now refresh the browser, you should be able to use all vim shortcuts listed in jupyterlab-dash\n",
    "'''"
   ]
  },
  {
   "cell_type": "markdown",
   "metadata": {},
   "source": [
    "<h3>Importindg data</h3>"
   ]
  },
  {
   "cell_type": "code",
   "execution_count": 7,
   "metadata": {},
   "outputs": [],
   "source": [
    "import pandas as pd"
   ]
  },
  {
   "cell_type": "code",
   "execution_count": 8,
   "metadata": {},
   "outputs": [],
   "source": [
    "perfiles = pd.read_csv('s3://bme-bucket/perfiles_inversores.csv', nrows = 79899)"
   ]
  },
  {
   "cell_type": "markdown",
   "metadata": {},
   "source": [
    "<h3>Dash code</h3>"
   ]
  },
  {
   "cell_type": "code",
   "execution_count": 23,
   "metadata": {},
   "outputs": [],
   "source": [
    "import jupyterlab_dash\n",
    "import dash\n",
    "import dash_core_components as dcc\n",
    "import dash_html_components as html\n",
    "import plotly.graph_objs as go\n",
    "\n",
    "viewer = jupyterlab_dash.AppViewer()\n",
    "\n",
    "app = dash.Dash(__name__)\n",
    "\n",
    "app.layout = html.Div([\n",
    "    dcc.Graph(\n",
    "        id = 'scatter',\n",
    "        figure={\n",
    "            'data' : [\n",
    "                go.Scatter(\n",
    "                    x = perfiles['Cual es el importe de tus inversiones en activos liquidos?'].iloc[:10000],\n",
    "                    y = perfiles['Que edad tienes?'].iloc[:10000],\n",
    "                    mode = 'markers',\n",
    "                    marker = {'size':5},\n",
    "                    opacity = 0.6\n",
    "                )\n",
    "            ],\n",
    "            'layout': go.Layout(\n",
    "                xaxis = {'title':'Importe de tus inversiones'},\n",
    "                yaxis = {'title':'Edad'}\n",
    "            )\n",
    "        }\n",
    "    )\n",
    "    \n",
    "])\n",
    "\n",
    "viewer.show(app)"
   ]
  },
  {
   "cell_type": "code",
   "execution_count": 16,
   "metadata": {},
   "outputs": [
    {
     "data": {
      "text/plain": [
       "0    57\n",
       "1    20\n",
       "2    23\n",
       "3    44\n",
       "4    25\n",
       "5    23\n",
       "6    19\n",
       "7    51\n",
       "8    49\n",
       "9    40\n",
       "Name: Que edad tienes?, dtype: int64"
      ]
     },
     "execution_count": 16,
     "metadata": {},
     "output_type": "execute_result"
    }
   ],
   "source": [
    "perfiles['Que edad tienes?'].iloc[:10]"
   ]
  }
 ],
 "metadata": {
  "kernelspec": {
   "display_name": "conda_tensorflow_p36",
   "language": "python",
   "name": "conda_tensorflow_p36"
  },
  "language_info": {
   "codemirror_mode": {
    "name": "ipython",
    "version": 3
   },
   "file_extension": ".py",
   "mimetype": "text/x-python",
   "name": "python",
   "nbconvert_exporter": "python",
   "pygments_lexer": "ipython3",
   "version": "3.6.5"
  }
 },
 "nbformat": 4,
 "nbformat_minor": 4
}
