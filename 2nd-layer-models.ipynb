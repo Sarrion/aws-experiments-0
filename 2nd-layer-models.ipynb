{
 "cells": [
  {
   "cell_type": "code",
   "execution_count": 5,
   "metadata": {},
   "outputs": [],
   "source": [
    "import sys\n",
    "sys.path.append('/home/ec2-user/SageMaker')\n",
    "import toniutils as tu"
   ]
  },
  {
   "cell_type": "code",
   "execution_count": 9,
   "metadata": {},
   "outputs": [
    {
     "name": "stderr",
     "output_type": "stream",
     "text": [
      "Using TensorFlow backend.\n"
     ]
    }
   ],
   "source": [
    "from keras.models import model_from_json"
   ]
  },
  {
   "cell_type": "markdown",
   "metadata": {},
   "source": [
    "<h2>Load Models</h2>"
   ]
  },
  {
   "cell_type": "code",
   "execution_count": 10,
   "metadata": {},
   "outputs": [],
   "source": [
    "import boto3\n",
    "client = boto3.client('s3')\n",
    "result = client.get_object(Bucket='bme-bucket', Key='models/keras-model-1.json')"
   ]
  },
  {
   "cell_type": "code",
   "execution_count": 11,
   "metadata": {
    "collapsed": true,
    "jupyter": {
     "outputs_hidden": true
    }
   },
   "outputs": [
    {
     "name": "stdout",
     "output_type": "stream",
     "text": [
      "WARNING:tensorflow:From /home/ec2-user/anaconda3/envs/amazonei_tensorflow_p36/lib/python3.6/site-packages/tensorflow/python/ops/resource_variable_ops.py:435: colocate_with (from tensorflow.python.framework.ops) is deprecated and will be removed in a future version.\n",
      "Instructions for updating:\n",
      "Colocations handled automatically by placer.\n"
     ]
    }
   ],
   "source": [
    "model = model_from_json(result[\"Body\"].read())"
   ]
  },
  {
   "cell_type": "code",
   "execution_count": 15,
   "metadata": {},
   "outputs": [
    {
     "name": "stdout",
     "output_type": "stream",
     "text": [
      "add                        get_output_mask_at    predict_classes     \n",
      "add_loss                   get_output_shape_at   predict_generator   \n",
      "add_metric                 get_updates_for       predict_on_batch    \n",
      "add_update                 get_weights           predict_proba       \n",
      "add_weight                 input                 reset_metrics       \n",
      "assert_input_compatibility input_mask            reset_states        \n",
      "build                      input_names           run_internal_graph  \n",
      "built                      input_shape           save                \n",
      "call                       input_spec            save_weights        \n",
      "compile                    inputs                set_weights         \n",
      "compute_mask               layers                state_updates       \n",
      "compute_output_shape       load_weights          stateful            \n",
      "count_params               losses                summary             \n",
      "dtype                      metrics               supports_masking    \n",
      "evaluate                   metrics_names         test_on_batch       \n",
      "evaluate_generator         model                 to_json             \n",
      "fit                        name                  to_yaml             \n",
      "fit_generator              non_trainable_weights train_on_batch      \n",
      "from_config                optimizer             trainable           \n",
      "get_config                 output                trainable_weights   \n",
      "get_input_at               output_mask           updates             \n",
      "get_input_mask_at          output_names          uses_learning_phase \n",
      "get_input_shape_at         output_shape          weights             \n",
      "get_layer                  outputs                                   \n",
      "get_losses_for             pop                                       \n",
      "get_output_at              predict                                   \n"
     ]
    }
   ],
   "source": [
    "tu.printoni(tu.dirtoni(model), 3)"
   ]
  },
  {
   "cell_type": "code",
   "execution_count": 22,
   "metadata": {},
   "outputs": [
    {
     "name": "stdout",
     "output_type": "stream",
     "text": [
      "SaveSliceInfo        graph             scatter_nd_sub    \n",
      "assign               handle            scatter_nd_update \n",
      "assign_add           initial_value     scatter_sub       \n",
      "assign_sub           initialized_value scatter_update    \n",
      "batch_scatter_update initializer       set_shape         \n",
      "constraint           is_initialized    shape             \n",
      "count_up_to          load              sparse_read       \n",
      "create               name              to_proto          \n",
      "device               numpy             trainable         \n",
      "dtype                op                value             \n",
      "eval                 read_value                          \n",
      "from_proto           scatter_add                         \n",
      "get_shape            scatter_nd_add                      \n"
     ]
    }
   ],
   "source": [
    "tu.printoni(tu.dirtoni(model.weights[0]), 3)"
   ]
  },
  {
   "cell_type": "code",
   "execution_count": 31,
   "metadata": {},
   "outputs": [
    {
     "data": {
      "text/plain": [
       "[array([[-0.4103929 ,  0.01741073, -0.08463517,  0.4012341 ,  0.2294957 ,\n",
       "         -0.1780038 , -0.31295332, -0.15318403,  0.08876896,  0.00275239,\n",
       "         -0.36312282,  0.02379653,  0.15153366,  0.37722582, -0.12111342,\n",
       "         -0.42496505, -0.04997501,  0.34303093, -0.33645892,  0.23648232,\n",
       "         -0.32641613, -0.21478899],\n",
       "        [-0.1946102 ,  0.0259957 , -0.4213297 ,  0.25115198, -0.4168209 ,\n",
       "          0.04586309, -0.06370905,  0.0515157 ,  0.00415909, -0.06211367,\n",
       "         -0.07197315,  0.15082955,  0.2596978 ,  0.29049885, -0.21252222,\n",
       "         -0.38601273, -0.10319337,  0.04489741, -0.31893167,  0.19564217,\n",
       "         -0.14383337, -0.33041602],\n",
       "        [-0.38670596, -0.26256192,  0.30238962, -0.16036299,  0.21226114,\n",
       "         -0.34517825, -0.0435386 , -0.3083022 , -0.11216667, -0.34850058,\n",
       "          0.37063158,  0.00825617, -0.01480088, -0.14823136,  0.04273212,\n",
       "         -0.03149796, -0.10659587,  0.08716774,  0.02123323,  0.00710037,\n",
       "         -0.08203658, -0.13514796],\n",
       "        [ 0.1796006 ,  0.37539953,  0.25146753, -0.22867145, -0.31358707,\n",
       "         -0.09500155, -0.15844625, -0.16220573,  0.01167557,  0.00554445,\n",
       "          0.11814934, -0.37822533,  0.30804896, -0.22739121,  0.01162291,\n",
       "         -0.33699316, -0.2433489 ,  0.34745985, -0.00746292,  0.20357543,\n",
       "          0.2932685 ,  0.22831786],\n",
       "        [-0.32655215,  0.12826222,  0.37668657, -0.30514324,  0.30070132,\n",
       "         -0.369714  , -0.05167267, -0.2439912 , -0.3294376 ,  0.20058179,\n",
       "          0.05109981,  0.31537044, -0.3604306 ,  0.3734281 , -0.39781752,\n",
       "          0.31673747, -0.40060815,  0.06362334, -0.3974679 ,  0.03561607,\n",
       "         -0.17440721, -0.4238064 ],\n",
       "        [ 0.18865979,  0.21673858, -0.02228054, -0.10256234, -0.17970715,\n",
       "          0.10637945, -0.41121182, -0.11641878,  0.00244874, -0.38244134,\n",
       "          0.0790903 , -0.2808938 ,  0.07536793, -0.13832685,  0.17334563,\n",
       "         -0.02023429, -0.41382036,  0.05634749,  0.01659906, -0.3216862 ,\n",
       "          0.11861497,  0.14652568],\n",
       "        [-0.18955301,  0.2204603 , -0.15996927, -0.25291082, -0.04193407,\n",
       "         -0.15885597,  0.39261568, -0.17990254, -0.3400753 , -0.20650028,\n",
       "         -0.22660942,  0.37893492,  0.17572415, -0.2040243 ,  0.3744195 ,\n",
       "         -0.1705342 , -0.10347396, -0.14760178,  0.03891042, -0.14971685,\n",
       "         -0.31070548,  0.07295969],\n",
       "        [-0.31793082, -0.18331635,  0.05672792,  0.29022467, -0.17415273,\n",
       "         -0.30538386,  0.28451663, -0.18097407,  0.2310955 , -0.24765418,\n",
       "          0.38184482, -0.24983971,  0.41120702,  0.37614095,  0.29230982,\n",
       "         -0.30639136, -0.28246212, -0.39016625,  0.11482286, -0.12390029,\n",
       "         -0.34744623, -0.31179214],\n",
       "        [-0.28219172,  0.3468517 ,  0.264427  ,  0.22141743, -0.39241195,\n",
       "          0.2334392 , -0.41752198,  0.31087393,  0.18747008, -0.31373572,\n",
       "          0.02519387, -0.23396336,  0.07855749,  0.21458018, -0.28122103,\n",
       "         -0.10302338,  0.25436378, -0.05957171, -0.37315413,  0.376859  ,\n",
       "         -0.30572373,  0.0429827 ],\n",
       "        [ 0.25679755,  0.2701103 ,  0.36413902,  0.08150959,  0.04888216,\n",
       "          0.07413548, -0.12527719, -0.14669505, -0.41076082, -0.4077382 ,\n",
       "          0.3908555 ,  0.21085232, -0.24979112, -0.11866257, -0.24358587,\n",
       "          0.3940844 , -0.03375241,  0.18010253, -0.13154995, -0.17884018,\n",
       "         -0.0566467 , -0.04935783],\n",
       "        [ 0.20384353,  0.05240586,  0.34992903, -0.11662251, -0.02966315,\n",
       "          0.12213665, -0.38599974, -0.13117889,  0.03165847, -0.20254725,\n",
       "          0.14124626, -0.07805255,  0.12972063,  0.33249784,  0.20918638,\n",
       "         -0.05468452,  0.41752797,  0.26513702, -0.4026053 ,  0.40093976,\n",
       "          0.40781945,  0.13779181]], dtype=float32),\n",
       " array([0., 0., 0., 0., 0., 0., 0., 0., 0., 0., 0., 0., 0., 0., 0., 0., 0.,\n",
       "        0., 0., 0., 0., 0.], dtype=float32)]"
      ]
     },
     "execution_count": 31,
     "metadata": {},
     "output_type": "execute_result"
    }
   ],
   "source": [
    "model.layers[0].get_weights()"
   ]
  }
 ],
 "metadata": {
  "kernelspec": {
   "display_name": "conda_amazonei_tensorflow_p36",
   "language": "python",
   "name": "conda_amazonei_tensorflow_p36"
  },
  "language_info": {
   "codemirror_mode": {
    "name": "ipython",
    "version": 3
   },
   "file_extension": ".py",
   "mimetype": "text/x-python",
   "name": "python",
   "nbconvert_exporter": "python",
   "pygments_lexer": "ipython3",
   "version": "3.6.5"
  }
 },
 "nbformat": 4,
 "nbformat_minor": 4
}
