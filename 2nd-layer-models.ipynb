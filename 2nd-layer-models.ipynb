{
 "cells": [
  {
   "cell_type": "code",
   "execution_count": 1,
   "metadata": {},
   "outputs": [],
   "source": [
    "import sys\n",
    "sys.path.append('/home/ec2-user/SageMaker')\n",
    "import toniutils as tu"
   ]
  },
  {
   "cell_type": "code",
   "execution_count": 8,
   "metadata": {},
   "outputs": [
    {
     "name": "stderr",
     "output_type": "stream",
     "text": [
      "Using TensorFlow backend.\n"
     ]
    }
   ],
   "source": [
    "from keras.models import model_from_json"
   ]
  },
  {
   "cell_type": "markdown",
   "metadata": {},
   "source": [
    "<h2>Load Models</h2>"
   ]
  },
  {
   "cell_type": "code",
   "execution_count": 22,
   "metadata": {},
   "outputs": [],
   "source": [
    "import numpy as np\n",
    "import io\n",
    "import pickle\n",
    "import boto3\n",
    "from keras.models import model_from_json\n",
    "\n",
    "s3_client = boto3.client('s3')\n",
    "#result = client.get_object(Bucket='bme-bucket', Key='models/keras-model-1.json')\n",
    "#model = model_from_json(result[\"Body\"].read())"
   ]
  },
  {
   "cell_type": "code",
   "execution_count": 10,
   "metadata": {},
   "outputs": [
    {
     "name": "stdout",
     "output_type": "stream",
     "text": [
      "WARNING:tensorflow:From /home/ec2-user/anaconda3/envs/amazonei_tensorflow_p36/lib/python3.6/site-packages/tensorflow/python/ops/resource_variable_ops.py:435: colocate_with (from tensorflow.python.framework.ops) is deprecated and will be removed in a future version.\n",
      "Instructions for updating:\n",
      "Colocations handled automatically by placer.\n"
     ]
    }
   ],
   "source": [
    "models_dict ={}\n",
    "for model in ['model-' + str(i) for i in range(1, 19)]:\n",
    "    #print('models/keras-' + model + '.json')\n",
    "    model_json = s3_client.get_object(Bucket='bme-bucket', Key='models/keras-' + model + '.json')\n",
    "    models_dict[model] = model_from_json(model_json['Body'].read())"
   ]
  },
  {
   "cell_type": "code",
   "execution_count": 70,
   "metadata": {},
   "outputs": [
    {
     "data": {
      "text/plain": [
       "(2, 80)"
      ]
     },
     "execution_count": 70,
     "metadata": {},
     "output_type": "execute_result"
    }
   ],
   "source": [
    "model.predict(np.array([[1,2,3,4,5,6,7,8,9,10,11],\n",
    "                        [2,2,3,4,5,2,3,5,7,4,3]])).shape"
   ]
  },
  {
   "cell_type": "markdown",
   "metadata": {},
   "source": [
    "<h2>Load Data</h2>"
   ]
  },
  {
   "cell_type": "code",
   "execution_count": 17,
   "metadata": {},
   "outputs": [],
   "source": [
    "# download without using disk\n",
    "my_array_data2 = io.BytesIO()\n",
    "s3_client.download_fileobj('bme-bucket', 'engineered_data/Y_minmaxscaled.pkl', my_array_data2)\n",
    "my_array_data2.seek(0)\n",
    "Y = pickle.load(my_array_data2)\n",
    "\n",
    "my_array_data2 = io.BytesIO()\n",
    "s3_client.download_fileobj('bme-bucket', 'engineered_data/X.pkl', my_array_data2)\n",
    "my_array_data2.seek(0)\n",
    "X = pickle.load(my_array_data2)"
   ]
  },
  {
   "cell_type": "markdown",
   "metadata": {},
   "source": [
    "<h3>Format data</h3>"
   ]
  },
  {
   "cell_type": "code",
   "execution_count": 28,
   "metadata": {},
   "outputs": [],
   "source": [
    "X_2nd_layer = models_dict['model-1'].predict(X)"
   ]
  },
  {
   "cell_type": "code",
   "execution_count": 29,
   "metadata": {},
   "outputs": [],
   "source": [
    "for i in range(2, 19):\n",
    "    X_2nd_layer = np.hstack( (X_2nd_layer, models_dict['model-' + str(i)].predict(X)) )"
   ]
  },
  {
   "cell_type": "code",
   "execution_count": 30,
   "metadata": {},
   "outputs": [
    {
     "data": {
      "text/plain": [
       "(79899, 1440)"
      ]
     },
     "execution_count": 30,
     "metadata": {},
     "output_type": "execute_result"
    }
   ],
   "source": [
    "X_2nd_layer.shape"
   ]
  },
  {
   "cell_type": "markdown",
   "metadata": {},
   "source": [
    "<h2>2nd Layer Models</h2>"
   ]
  },
  {
   "cell_type": "code",
   "execution_count": 68,
   "metadata": {},
   "outputs": [],
   "source": [
    "from sklearn.neighbors import KNeighborsRegressor\n",
    "from sklearn.linear_model import Lasso\n",
    "from sklearn.linear_model import ElasticNet\n",
    "from sklearn.linear_model import LinearRegression\n",
    "from sklearn.linear_model import RidgeCV\n",
    "\n",
    "from sklearn.ensemble import ExtraTreesRegressor\n",
    "from sklearn.ensemble import GradientBoostingRegressor\n",
    "from sklearn.ensemble import RandomForestRegressor\n",
    "from sklearn.ensemble import AdaBoostRegressor\n",
    "\n",
    "from sklearn.tree import DecisionTreeRegressor\n",
    "\n",
    "from sklearn.multioutput import MultiOutputRegressor\n",
    "from sklearn.model_selection import train_test_split\n",
    "from sklearn.metrics import mean_squared_error as mse"
   ]
  },
  {
   "cell_type": "code",
   "execution_count": 69,
   "metadata": {},
   "outputs": [],
   "source": [
    "ESTIMATORS = {\n",
    "    \"Extra trees\": ExtraTreesRegressor(n_estimators=10,\n",
    "                                       max_features=32,     # Out of 20000\n",
    "                                       random_state=0),\n",
    "    \"K-nn\": KNeighborsRegressor(),                          # Accept default parameters\n",
    "    \"Linear regression\": LinearRegression(),\n",
    "    \"Ridge\": RidgeCV(),\n",
    "    \"Lasso\": Lasso(),\n",
    "    \"ElasticNet\": ElasticNet(random_state=0),\n",
    "    \"RandomForestRegressor\": RandomForestRegressor(max_depth=4, random_state=2),\n",
    "    \"Decision Tree Regressor\":DecisionTreeRegressor(max_depth=5),\n",
    "    \"MultiO/P GBR\" :MultiOutputRegressor(GradientBoostingRegressor(n_estimators=5)),\n",
    "    \"MultiO/P AdaB\" :MultiOutputRegressor(AdaBoostRegressor(n_estimators=5))\n",
    "}"
   ]
  },
  {
   "cell_type": "code",
   "execution_count": 42,
   "metadata": {},
   "outputs": [],
   "source": [
    "X_train, X_test, y_train, y_test = train_test_split(X_2nd_layer, Y, test_size = 0.2, random_state = 2)"
   ]
  },
  {
   "cell_type": "code",
   "execution_count": null,
   "metadata": {},
   "outputs": [],
   "source": [
    "y_test_predict = {}\n",
    "y_mse = {}\n",
    "\n",
    "for name, estimator in ESTIMATORS.items():     \n",
    "    estimator.fit(X_train, y_train)                    # fit() with instantiated object\n",
    "    y_test_predict[name] = estimator.predict(X_test)   # Make predictions and save it in dict under key: name\n",
    "    y_mse[name] = mse(y_test, estimator.predict(X_test))"
   ]
  },
  {
   "cell_type": "code",
   "execution_count": 47,
   "metadata": {},
   "outputs": [],
   "source": [
    "lin_reg = LinearRegression()"
   ]
  },
  {
   "cell_type": "code",
   "execution_count": 48,
   "metadata": {},
   "outputs": [
    {
     "data": {
      "text/plain": [
       "LinearRegression(copy_X=True, fit_intercept=True, n_jobs=None,\n",
       "         normalize=False)"
      ]
     },
     "execution_count": 48,
     "metadata": {},
     "output_type": "execute_result"
    }
   ],
   "source": [
    "lin_reg.fit(X_train, y_train)"
   ]
  },
  {
   "cell_type": "code",
   "execution_count": 53,
   "metadata": {},
   "outputs": [
    {
     "data": {
      "text/plain": [
       "0.02404002845175953"
      ]
     },
     "execution_count": 53,
     "metadata": {},
     "output_type": "execute_result"
    }
   ],
   "source": [
    "mse(lin_reg.predict(X_test), y_test)"
   ]
  },
  {
   "cell_type": "code",
   "execution_count": 66,
   "metadata": {},
   "outputs": [
    {
     "data": {
      "text/plain": [
       "array([[ 6.71875000e-01,  3.88671875e-01,  1.73828125e-01,\n",
       "         4.02343750e-01,  1.71875000e-01,  3.87695312e-01,\n",
       "         1.66015625e-01,  4.09179688e-01,  1.78710938e-01,\n",
       "        -3.66210938e-04,  6.09375000e-01,  3.59375000e-01,\n",
       "         2.26562500e-01,  3.71093750e-01,  2.40234375e-01,\n",
       "         3.35937500e-01,  2.26074219e-01,  3.67187500e-01,\n",
       "         1.79687500e-01,  1.83105469e-04,  6.64062500e-01,\n",
       "         4.04785156e-01,  3.90625000e-01,  4.37500000e-01,\n",
       "         3.64257812e-01,  4.29687500e-01,  3.59375000e-01,\n",
       "         3.75000000e-01,  3.16406250e-01,  5.49316406e-04,\n",
       "         6.13281250e-01,  3.51562500e-01,  3.17382812e-02,\n",
       "         3.37890625e-01,  3.18603516e-02,  3.46679688e-01,\n",
       "         3.25927734e-02,  3.43750000e-01,  3.32031250e-02,\n",
       "         1.83105469e-04,  6.50390625e-01,  3.87207031e-01,\n",
       "         4.00390625e-02,  3.69140625e-01,  3.45458984e-02,\n",
       "         3.80371094e-01,  3.66210938e-02,  3.91601562e-01,\n",
       "         4.10156250e-02,  7.32421875e-04,  6.50390625e-01,\n",
       "         3.83300781e-01,  1.07421875e-01,  3.64257812e-01,\n",
       "         1.13281250e-01,  3.71093750e-01,  9.76562500e-02,\n",
       "         3.91601562e-01,  1.20117188e-01, -6.10351562e-05,\n",
       "         4.92187500e-01,  2.63671875e-01,  2.81250000e-01,\n",
       "         2.96875000e-01,  3.63281250e-01,  2.50000000e-01,\n",
       "         2.96875000e-01,  3.07373047e-01,  3.75000000e-01,\n",
       "         5.18798828e-04,  1.40625000e-01,  1.56250000e-02,\n",
       "         8.59375000e-02,  9.08203125e-02,  6.64062500e-02,\n",
       "         5.85937500e-02,  2.34375000e-02,  4.95605469e-02,\n",
       "         1.01562500e-01, -3.50952148e-04]], dtype=float32)"
      ]
     },
     "execution_count": 66,
     "metadata": {},
     "output_type": "execute_result"
    }
   ],
   "source": []
  }
 ],
 "metadata": {
  "kernelspec": {
   "display_name": "conda_amazonei_tensorflow_p36",
   "language": "python",
   "name": "conda_amazonei_tensorflow_p36"
  },
  "language_info": {
   "codemirror_mode": {
    "name": "ipython",
    "version": 3
   },
   "file_extension": ".py",
   "mimetype": "text/x-python",
   "name": "python",
   "nbconvert_exporter": "python",
   "pygments_lexer": "ipython3",
   "version": "3.6.5"
  }
 },
 "nbformat": 4,
 "nbformat_minor": 4
}
