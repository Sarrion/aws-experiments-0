{
 "cells": [
  {
   "cell_type": "code",
   "execution_count": 1,
   "metadata": {},
   "outputs": [],
   "source": [
    "import sys\n",
    "sys.path.append('/home/ec2-user/SageMaker')\n",
    "from toniutils import dirtoni as dirt\n",
    "from toniutils import printoni"
   ]
  },
  {
   "cell_type": "markdown",
   "metadata": {},
   "source": [
    "<h2>Load Data</h2>"
   ]
  },
  {
   "cell_type": "code",
   "execution_count": 1,
   "metadata": {},
   "outputs": [],
   "source": [
    "from script import load"
   ]
  },
  {
   "cell_type": "code",
   "execution_count": 2,
   "metadata": {},
   "outputs": [],
   "source": [
    "path = 'engineered_data/experiment-1/'\n",
    "X_train, X_val, Y_train, Y_val = [load(path + i + '.pkl') for i in ('X_train', 'X_val', 'Y_train', 'Y_val')]"
   ]
  },
  {
   "cell_type": "markdown",
   "metadata": {},
   "source": [
    "<h2>Train Model</h2>"
   ]
  },
  {
   "cell_type": "code",
   "execution_count": 3,
   "metadata": {},
   "outputs": [],
   "source": [
    "import tensorflow as tf\n",
    "import numpy as np"
   ]
  },
  {
   "cell_type": "code",
   "execution_count": 4,
   "metadata": {},
   "outputs": [],
   "source": [
    "from tensorflow import float32 as fl32\n",
    "from tensorflow import random_normal as rnorm\n",
    "from tensorflow import matmul, add\n",
    "from tensorflow.nn import relu,dropout, tanh\n",
    "from tensorflow.initializers import he_uniform, glorot_uniform\n",
    "from tensorflow.python.client import device_lib\n",
    "#device_lib.list_local_devices()"
   ]
  },
  {
   "cell_type": "code",
   "execution_count": 5,
   "metadata": {},
   "outputs": [],
   "source": [
    "batch_size = 32"
   ]
  },
  {
   "cell_type": "code",
   "execution_count": 6,
   "metadata": {},
   "outputs": [],
   "source": [
    "inputs = tf.placeholder(shape = [batch_size, X_train.shape[1]], dtype = fl32, name = 'inputs')\n",
    "labels = tf.placeholder(shape = [batch_size, Y_train.shape[1]], dtype = fl32, name = 'labels')"
   ]
  },
  {
   "cell_type": "code",
   "execution_count": null,
   "metadata": {},
   "outputs": [],
   "source": [
    "printoni(dirt(tf.initializers), 4)"
   ]
  },
  {
   "cell_type": "code",
   "execution_count": null,
   "metadata": {
    "jupyter": {
     "source_hidden": true
    }
   },
   "outputs": [],
   "source": [
    "with tf.variable_scope('l1', reuse = tf.AUTO_REUSE):\n",
    "    w1 = tf.get_variable('w1', [inputs.shape[1].value, 110], initializer = he_uniform())\n",
    "    b1 = tf.get_variable('b1', [110,], initializer = tf.initializers.zeros)\n",
    "    layer1 = dropout( relu(add(matmul(inputs, w1), b1), name = 'relu'), rate = 0.1 )\n",
    "\n",
    "with tf.variable_scope('l2', reuse = tf.AUTO_REUSE):\n",
    "    w2 = tf.get_variable('w2', [layer1.shape[1].value, 220], initializer = he_uniform())\n",
    "    b2 = tf.get_variable('b2', [220,], initializer = tf.initializers.zeros)\n",
    "    layer2 = dropout( relu(add(matmul(layer1, w2), b2), name = 'relu'), rate = 0.1)\n",
    "\n",
    "with tf.variable_scope('l3', reuse = tf.AUTO_REUSE):\n",
    "    w3 = tf.get_variable('w3', [layer2.shape[1].value, 220], initializer = he_uniform())\n",
    "    b3 = tf.get_variable('b3', [220,], initializer = tf.initializers.zeros)\n",
    "    layer3 = dropout( relu(add(matmul(layer2, w3), b3), name = 'relu'), rate = 0.1)\n",
    "    \n",
    "'''with tf.variable_scope('l4', reuse = tf.AUTO_REUSE):\n",
    "    w4 = tf.get_variable('w4', [layer3.shape[1].value, 220], initializer = he_uniform())\n",
    "    b4 = tf.get_variable('b4', [220,], initializer = tf.initializers.zeros)\n",
    "    layer4 = dropout( relu(add(matmul(layer3, w4), b4), name = 'relu'), rate = 0.1)'''\n",
    "\n",
    "with tf.variable_scope('output_layer', reuse = tf.AUTO_REUSE):\n",
    "    w_out = tf.get_variable('w_out', [layer3.shape[1].value, 80], initializer = glorot_uniform())\n",
    "    b_out = tf.get_variable('b_out', [80,], initializer = tf.initializers.zeros)\n",
    "    layer_out = add(matmul(layer3, w_out), b_out)"
   ]
  },
  {
   "cell_type": "markdown",
   "metadata": {},
   "source": [
    "<h3>ResNet</h3>"
   ]
  },
  {
   "cell_type": "code",
   "execution_count": 7,
   "metadata": {},
   "outputs": [],
   "source": [
    "def layer(layer_name, parameter_names, prev_layer, neurons = 50, activation = 'relu', drout = 0):\n",
    "    with tf.variable_scope(layer_name, reuse = tf.AUTO_REUSE):\n",
    "        w = tf.get_variable(parameter_names[0], [prev_layer.shape[1].value, neurons], initializer = he_uniform())\n",
    "        b = tf.get_variable(parameter_names[1], [neurons,], initializer = tf.initializers.zeros)\n",
    "        if activation == 'relu':\n",
    "            result_layer = relu(add(matmul(prev_layer, w), b), name = 'relu')\n",
    "        elif activation == 'linear':\n",
    "            result_layer = add(matmul(prev_layer, w), b)\n",
    "        if drout != 0:\n",
    "            result_layer = dropout(result_layer, rate = drout)\n",
    "    return result_layer\n",
    "\n",
    "def residual_layer(layer_name, parameter_names, prev_layers, neurons = 100, activation = 'relu', drout = 0):\n",
    "    unified_prev_layers = tf.concat(prev_layers, 1)\n",
    "    with tf.variable_scope(layer_name, reuse = tf.AUTO_REUSE):\n",
    "        w = tf.get_variable(parameter_names[0], [unified_prev_layers.shape[1].value, neurons], initializer = he_uniform())\n",
    "        b = tf.get_variable(parameter_names[1], [neurons,], initializer = tf.initializers.zeros)\n",
    "        if activation == 'relu':\n",
    "            result_layer = relu(add(matmul(unified_prev_layers, w), b), name = 'relu')\n",
    "        elif activation == 'linear':\n",
    "            result_layer = add(matmul(unified_prev_layers, w), b)\n",
    "        if drout != 0:\n",
    "            result_layer = dropout(result_layer, rate = drout)\n",
    "    return result_layer"
   ]
  },
  {
   "cell_type": "code",
   "execution_count": 8,
   "metadata": {},
   "outputs": [
    {
     "name": "stdout",
     "output_type": "stream",
     "text": [
      "WARNING:tensorflow:From /home/ec2-user/anaconda3/envs/amazonei_tensorflow_p36/lib/python3.6/site-packages/tensorflow/python/framework/op_def_library.py:263: colocate_with (from tensorflow.python.framework.ops) is deprecated and will be removed in a future version.\n",
      "Instructions for updating:\n",
      "Colocations handled automatically by placer.\n"
     ]
    }
   ],
   "source": [
    "layer1 = layer('l1', ['w1','b1'], inputs, 400, drout = 0.1)\n",
    "layer2 = layer('l2', ['w2','b2'], layer1, 400, drout = 0.1)\n",
    "layer3 = layer('l3', ['w3','b3'], layer2, 400, drout = 0.1)\n",
    "layer4 = layer('l4', ['w4','b4'], layer3, 400,drout = 0.1)\n",
    "layer5 = layer('l5', ['w5','b5'], layer4, 400, drout = 0.1)\n",
    "layer6 = residual_layer('l6', ['w6','b6'], [layer5, layer1], drout = 0.1)\n",
    "layer7 = residual_layer('l7', ['w7','b7'], [layer6, layer2], drout = 0.1)\n",
    "layer8 = residual_layer('l8', ['w8','b8'], [layer7, layer3], drout = 0.1)\n",
    "layer9 = residual_layer('l9', ['w9','b9'], [layer8, layer4],drout = 0.1)\n",
    "layer10 = residual_layer('l10', ['w10','b10'], [layer9, layer5, layer1], drout = 0.1)\n",
    "layer11 = residual_layer('l11', ['w10','b11'], [layer10, layer6, layer2], drout = 0.1)\n",
    "layer12 = residual_layer('l12', ['w10','b12'], [layer11, layer7, layer3], drout = 0.1)\n",
    "layer_out = layer('l_out', ['w_out','b_out'], layer12, neurons = 80, activation = 'linear')"
   ]
  },
  {
   "cell_type": "code",
   "execution_count": 9,
   "metadata": {},
   "outputs": [],
   "source": [
    "with tf.variable_scope('loss', reuse = tf.AUTO_REUSE):\n",
    "    loss = tf.reduce_mean(tf.squared_difference(layer_out, labels))\n",
    "    loss_minimize = tf.train.AdamOptimizer().minimize(loss)"
   ]
  },
  {
   "cell_type": "code",
   "execution_count": 10,
   "metadata": {
    "scrolled": true
   },
   "outputs": [],
   "source": [
    "init = tf.global_variables_initializer()\n",
    "sess = tf.Session()\n",
    "sess.run(init)\n",
    "saver = tf.train.Saver()"
   ]
  },
  {
   "cell_type": "code",
   "execution_count": null,
   "metadata": {
    "scrolled": true
   },
   "outputs": [
    {
     "name": "stdout",
     "output_type": "stream",
     "text": [
      "Epoch: 0 - val_loss: 0.019788550212979317\n",
      "Epoch: 1 - val_loss: 0.016841817647218704\n",
      "Epoch: 2 - val_loss: 0.015634743496775627\n",
      "Epoch: 3 - val_loss: 0.01529550552368164\n",
      "Epoch: 4 - val_loss: 0.015148205682635307\n"
     ]
    }
   ],
   "source": [
    "test_loss = []\n",
    "mean_test_loss = []\n",
    "for epoch in range(20):\n",
    "    for i in range(X_train.shape[0] // batch_size):\n",
    "        sess.run([loss, loss_minimize], \n",
    "                 feed_dict = {inputs: X_train[i * batch_size:(i + 1)*batch_size, :],\n",
    "                              labels: Y_train[i * batch_size:(i + 1)*batch_size, :]})\n",
    "\n",
    "    epoch_test_loss = []   \n",
    "    for i in range(X_val.shape[0] // batch_size):\n",
    "        new_loss,_ = sess.run([loss, loss_minimize], \n",
    "                 feed_dict = {inputs: X_val[i * batch_size:(i + 1)*batch_size, :],\n",
    "                              labels: Y_val[i * batch_size:(i + 1)*batch_size, :]})\n",
    "        epoch_test_loss.append(new_loss)\n",
    "        \n",
    "    epoch_mean_test_loss = np.array(epoch_test_loss).mean()\n",
    "    print('Epoch: {} - val_loss: {}'.format(epoch, epoch_mean_test_loss))\n",
    "#     if epoch % 10 == 0:\n",
    "#         # Append the step number to the checkpoint name:\n",
    "#         saver.save(sess, save_path = '/home/ec2-user/SageMaker/tf_models/my-model', global_step = epoch)\n",
    "    \n",
    "    \n",
    "    test_loss.extend(epoch_test_loss) \n",
    "    mean_test_loss.append(epoch_mean_test_loss)\n",
    "    \n",
    "#saver.save(sess, save_path = '/home/ec2-user/SageMaker/tf_models/my-model', global_step = 21)    "
   ]
  },
  {
   "cell_type": "code",
   "execution_count": 13,
   "metadata": {
    "scrolled": true
   },
   "outputs": [],
   "source": [
    "sess.close()"
   ]
  },
  {
   "cell_type": "code",
   "execution_count": 109,
   "metadata": {},
   "outputs": [
    {
     "data": {
      "text/plain": [
       "0.013327003"
      ]
     },
     "execution_count": 109,
     "metadata": {},
     "output_type": "execute_result"
    }
   ],
   "source": [
    "mean_test_loss"
   ]
  },
  {
   "cell_type": "code",
   "execution_count": 115,
   "metadata": {},
   "outputs": [
    {
     "data": {
      "text/plain": [
       "0.0135560045"
      ]
     },
     "execution_count": 115,
     "metadata": {},
     "output_type": "execute_result"
    }
   ],
   "source": [
    "mean_test_loss"
   ]
  },
  {
   "cell_type": "code",
   "execution_count": 124,
   "metadata": {},
   "outputs": [
    {
     "data": {
      "text/plain": [
       "0.012763917"
      ]
     },
     "execution_count": 124,
     "metadata": {},
     "output_type": "execute_result"
    }
   ],
   "source": [
    "mean_test_loss"
   ]
  },
  {
   "cell_type": "code",
   "execution_count": 33,
   "metadata": {},
   "outputs": [
    {
     "data": {
      "text/plain": [
       "0.0126214735"
      ]
     },
     "execution_count": 33,
     "metadata": {},
     "output_type": "execute_result"
    }
   ],
   "source": [
    "mean_test_loss # 20 epochs"
   ]
  },
  {
   "cell_type": "code",
   "execution_count": 44,
   "metadata": {},
   "outputs": [
    {
     "data": {
      "text/plain": [
       "0.012417628"
      ]
     },
     "execution_count": 44,
     "metadata": {},
     "output_type": "execute_result"
    }
   ],
   "source": [
    "mean_test_loss"
   ]
  },
  {
   "cell_type": "code",
   "execution_count": 49,
   "metadata": {},
   "outputs": [
    {
     "data": {
      "text/plain": [
       "0.012488576"
      ]
     },
     "execution_count": 49,
     "metadata": {},
     "output_type": "execute_result"
    }
   ],
   "source": [
    "mean_test_loss"
   ]
  },
  {
   "cell_type": "code",
   "execution_count": 12,
   "metadata": {},
   "outputs": [
    {
     "data": {
      "text/plain": [
       "0.013266896"
      ]
     },
     "execution_count": 12,
     "metadata": {},
     "output_type": "execute_result"
    }
   ],
   "source": [
    "epoch_mean_test_loss # deep ResNet"
   ]
  },
  {
   "cell_type": "code",
   "execution_count": 12,
   "metadata": {},
   "outputs": [
    {
     "data": {
      "text/plain": [
       "0.019878602"
      ]
     },
     "execution_count": 12,
     "metadata": {},
     "output_type": "execute_result"
    }
   ],
   "source": [
    "mean_test_loss # deep no ResNet"
   ]
  },
  {
   "cell_type": "markdown",
   "metadata": {},
   "source": [
    "<h2>Save Model</h2>"
   ]
  },
  {
   "cell_type": "code",
   "execution_count": 119,
   "metadata": {
    "collapsed": true,
    "jupyter": {
     "outputs_hidden": true
    }
   },
   "outputs": [
    {
     "data": {
      "text/plain": [
       "[name: \"/device:CPU:0\"\n",
       " device_type: \"CPU\"\n",
       " memory_limit: 268435456\n",
       " locality {\n",
       " }\n",
       " incarnation: 4205122772179942051, name: \"/device:XLA_CPU:0\"\n",
       " device_type: \"XLA_CPU\"\n",
       " memory_limit: 17179869184\n",
       " locality {\n",
       " }\n",
       " incarnation: 8769741372308327298\n",
       " physical_device_desc: \"device: XLA_CPU device\"]"
      ]
     },
     "execution_count": 119,
     "metadata": {},
     "output_type": "execute_result"
    }
   ],
   "source": [
    "tf.io.write_graph(sess.graph, '/tmp/my-model', 'train.pbtxt')"
   ]
  },
  {
   "cell_type": "markdown",
   "metadata": {},
   "source": [
    "<h2>Plots</h2>"
   ]
  },
  {
   "cell_type": "code",
   "execution_count": null,
   "metadata": {},
   "outputs": [],
   "source": [
    "import matplotlib.pyplot as plt"
   ]
  },
  {
   "cell_type": "code",
   "execution_count": null,
   "metadata": {},
   "outputs": [],
   "source": [
    "plt.figure( figsize = (10, 10))\n",
    "plt.plot(mean_test_loss)\n",
    "plt.show()"
   ]
  },
  {
   "cell_type": "code",
   "execution_count": null,
   "metadata": {},
   "outputs": [],
   "source": [
    "plt.figure( figsize = (15, 15))\n",
    "plt.plot(test_loss, linewidth=0.1)\n",
    "plt.show()"
   ]
  }
 ],
 "metadata": {
  "kernelspec": {
   "display_name": "conda_amazonei_tensorflow_p36",
   "language": "python",
   "name": "conda_amazonei_tensorflow_p36"
  },
  "language_info": {
   "codemirror_mode": {
    "name": "ipython",
    "version": 3
   },
   "file_extension": ".py",
   "mimetype": "text/x-python",
   "name": "python",
   "nbconvert_exporter": "python",
   "pygments_lexer": "ipython3",
   "version": "3.6.5"
  }
 },
 "nbformat": 4,
 "nbformat_minor": 4
}
