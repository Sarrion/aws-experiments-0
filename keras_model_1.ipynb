{
 "cells": [
  {
   "cell_type": "code",
   "execution_count": 2,
   "metadata": {
    "collapsed": true,
    "jupyter": {
     "outputs_hidden": true,
     "source_hidden": true
    }
   },
   "outputs": [
    {
     "name": "stdout",
     "output_type": "stream",
     "text": [
      "Collecting keras\n",
      "\u001b[?25l  Downloading https://files.pythonhosted.org/packages/ad/fd/6bfe87920d7f4fd475acd28500a42482b6b84479832bdc0fe9e589a60ceb/Keras-2.3.1-py2.py3-none-any.whl (377kB)\n",
      "\u001b[K    100% |████████████████████████████████| 378kB 14.7MB/s ta 0:00:01\n",
      "\u001b[?25hRequirement already satisfied: keras-preprocessing>=1.0.5 in /home/ec2-user/anaconda3/envs/amazonei_tensorflow_p27/lib/python2.7/site-packages (from keras) (1.1.0)\n",
      "Requirement already satisfied: pyyaml in /home/ec2-user/anaconda3/envs/amazonei_tensorflow_p27/lib/python2.7/site-packages (from keras) (3.12)\n",
      "Requirement already satisfied: numpy>=1.9.1 in /home/ec2-user/anaconda3/envs/amazonei_tensorflow_p27/lib/python2.7/site-packages (from keras) (1.14.3)\n",
      "Requirement already satisfied: six>=1.9.0 in /home/ec2-user/anaconda3/envs/amazonei_tensorflow_p27/lib/python2.7/site-packages (from keras) (1.11.0)\n",
      "Requirement already satisfied: keras-applications>=1.0.6 in /home/ec2-user/anaconda3/envs/amazonei_tensorflow_p27/lib/python2.7/site-packages (from keras) (1.0.8)\n",
      "Requirement already satisfied: h5py in /home/ec2-user/anaconda3/envs/amazonei_tensorflow_p27/lib/python2.7/site-packages (from keras) (2.8.0)\n",
      "Requirement already satisfied: scipy>=0.14 in /home/ec2-user/anaconda3/envs/amazonei_tensorflow_p27/lib/python2.7/site-packages (from keras) (1.1.0)\n",
      "Installing collected packages: keras\n",
      "Successfully installed keras-2.3.1\n",
      "\u001b[33mYou are using pip version 10.0.1, however version 19.3.1 is available.\n",
      "You should consider upgrading via the 'pip install --upgrade pip' command.\u001b[0m\n"
     ]
    }
   ],
   "source": [
    "! pip install keras"
   ]
  },
  {
   "cell_type": "code",
   "execution_count": 1,
   "metadata": {},
   "outputs": [
    {
     "name": "stderr",
     "output_type": "stream",
     "text": [
      "Using TensorFlow backend.\n"
     ]
    }
   ],
   "source": [
    "#Dependencies\n",
    "import matplotlib.pyplot as plt\n",
    "\n",
    "import keras\n",
    "from keras.models import Sequential\n",
    "from keras.layers import Dense, Dropout"
   ]
  },
  {
   "cell_type": "code",
   "execution_count": 25,
   "metadata": {},
   "outputs": [],
   "source": [
    "# Neural network\n",
    "model = Sequential()\n",
    "model.add(Dense(220, input_dim = 11, activation='relu'))\n",
    "model.add(Dropout(0.25))\n",
    "model.add(Dense(440, activation='softmax'))\n",
    "model.add(Dropout(0.25))\n",
    "model.add(Dense(880, activation='relu'))\n",
    "model.add(Dropout(0.25))\n",
    "model.add(Dense(220, activation='relu'))\n",
    "model.add(Dropout(0.25))\n",
    "model.add(Dense(80, activation = 'softmax'))"
   ]
  },
  {
   "cell_type": "markdown",
   "metadata": {},
   "source": [
    "<h2>Load Data</h2>"
   ]
  },
  {
   "cell_type": "code",
   "execution_count": 3,
   "metadata": {},
   "outputs": [],
   "source": [
    "import io\n",
    "import pickle\n",
    "import boto3\n",
    "\n",
    "s3_client = boto3.client('s3')"
   ]
  },
  {
   "cell_type": "code",
   "execution_count": 4,
   "metadata": {},
   "outputs": [],
   "source": [
    "# download without using disk\n",
    "my_array_data2 = io.BytesIO()\n",
    "s3_client.download_fileobj('bme-bucket', 'engineered_data/Y_minmaxscaled.pkl', my_array_data2)\n",
    "my_array_data2.seek(0)\n",
    "Y = pickle.load(my_array_data2)\n",
    "\n",
    "my_array_data2 = io.BytesIO()\n",
    "s3_client.download_fileobj('bme-bucket', 'engineered_data/X.pkl', my_array_data2)\n",
    "my_array_data2.seek(0)\n",
    "X = pickle.load(my_array_data2)"
   ]
  },
  {
   "cell_type": "code",
   "execution_count": 5,
   "metadata": {},
   "outputs": [],
   "source": [
    "from sklearn.model_selection import train_test_split"
   ]
  },
  {
   "cell_type": "code",
   "execution_count": 26,
   "metadata": {},
   "outputs": [],
   "source": [
    "X_train, X_test, y_train, y_test = train_test_split(X, Y, test_size=0.2, random_state=3)"
   ]
  },
  {
   "cell_type": "markdown",
   "metadata": {},
   "source": [
    "<h2>Train Model</h2>"
   ]
  },
  {
   "cell_type": "code",
   "execution_count": null,
   "metadata": {
    "scrolled": true
   },
   "outputs": [
    {
     "name": "stdout",
     "output_type": "stream",
     "text": [
      "Train on 63919 samples, validate on 15980 samples\n",
      "Epoch 1/100\n",
      "63919/63919 [==============================] - 18s 276us/step - loss: 0.1444 - accuracy: 0.1728 - val_loss: 0.1427 - val_accuracy: 0.1556\n",
      "Epoch 2/100\n",
      "63919/63919 [==============================] - 17s 265us/step - loss: 0.1431 - accuracy: 0.1623 - val_loss: 0.1425 - val_accuracy: 0.1827\n",
      "Epoch 3/100\n",
      "63919/63919 [==============================] - 17s 261us/step - loss: 0.1429 - accuracy: 0.1613 - val_loss: 0.1424 - val_accuracy: 0.1897\n",
      "Epoch 4/100\n",
      "63919/63919 [==============================] - 48s 756us/step - loss: 0.1428 - accuracy: 0.1606 - val_loss: 0.1422 - val_accuracy: 0.1477\n",
      "Epoch 5/100\n",
      "63919/63919 [==============================] - 111s 2ms/step - loss: 0.1427 - accuracy: 0.1620 - val_loss: 0.1422 - val_accuracy: 0.1198\n",
      "Epoch 6/100\n",
      "63919/63919 [==============================] - 85s 1ms/step - loss: 0.1427 - accuracy: 0.1616 - val_loss: 0.1422 - val_accuracy: 0.1400\n",
      "Epoch 7/100\n",
      "63919/63919 [==============================] - 18s 286us/step - loss: 0.1427 - accuracy: 0.1649 - val_loss: 0.1421 - val_accuracy: 0.1508\n",
      "Epoch 8/100\n",
      "63919/63919 [==============================] - 19s 302us/step - loss: 0.1426 - accuracy: 0.1688 - val_loss: 0.1421 - val_accuracy: 0.1926\n",
      "Epoch 9/100\n",
      "63919/63919 [==============================] - 100s 2ms/step - loss: 0.1426 - accuracy: 0.1768 - val_loss: 0.1421 - val_accuracy: 0.2024\n",
      "Epoch 10/100\n",
      "63919/63919 [==============================] - 111s 2ms/step - loss: 0.1426 - accuracy: 0.1816 - val_loss: 0.1421 - val_accuracy: 0.1551\n",
      "Epoch 11/100\n",
      "63919/63919 [==============================] - 57s 884us/step - loss: 0.1426 - accuracy: 0.1850 - val_loss: 0.1421 - val_accuracy: 0.1798\n",
      "Epoch 12/100\n",
      "63919/63919 [==============================] - 17s 270us/step - loss: 0.1425 - accuracy: 0.1861 - val_loss: 0.1420 - val_accuracy: 0.1978\n",
      "Epoch 13/100\n",
      "63919/63919 [==============================] - 34s 535us/step - loss: 0.1425 - accuracy: 0.1859 - val_loss: 0.1420 - val_accuracy: 0.2093\n",
      "Epoch 14/100\n",
      "63919/63919 [==============================] - 110s 2ms/step - loss: 0.1425 - accuracy: 0.1901 - val_loss: 0.1420 - val_accuracy: 0.2260\n",
      "Epoch 15/100\n",
      "63919/63919 [==============================] - 109s 2ms/step - loss: 0.1425 - accuracy: 0.1933 - val_loss: 0.1420 - val_accuracy: 0.2201\n",
      "Epoch 16/100\n",
      "63919/63919 [==============================] - 34s 536us/step - loss: 0.1425 - accuracy: 0.1916 - val_loss: 0.1420 - val_accuracy: 0.2078\n",
      "Epoch 17/100\n",
      "63919/63919 [==============================] - 17s 269us/step - loss: 0.1425 - accuracy: 0.1952 - val_loss: 0.1420 - val_accuracy: 0.1729\n",
      "Epoch 18/100\n",
      "63919/63919 [==============================] - 54s 852us/step - loss: 0.1425 - accuracy: 0.1933 - val_loss: 0.1420 - val_accuracy: 0.1567\n",
      "Epoch 19/100\n",
      "63919/63919 [==============================] - 110s 2ms/step - loss: 0.1425 - accuracy: 0.1977 - val_loss: 0.1420 - val_accuracy: 0.1948\n",
      "Epoch 20/100\n",
      "63919/63919 [==============================] - 103s 2ms/step - loss: 0.1425 - accuracy: 0.1959 - val_loss: 0.1420 - val_accuracy: 0.2100\n",
      "Epoch 21/100\n",
      "63919/63919 [==============================] - 20s 308us/step - loss: 0.1425 - accuracy: 0.1981 - val_loss: 0.1420 - val_accuracy: 0.2309\n",
      "Epoch 22/100\n",
      "63919/63919 [==============================] - 17s 267us/step - loss: 0.1425 - accuracy: 0.1999 - val_loss: 0.1420 - val_accuracy: 0.2298\n",
      "Epoch 23/100\n",
      "63919/63919 [==============================] - 74s 1ms/step - loss: 0.1425 - accuracy: 0.1980 - val_loss: 0.1420 - val_accuracy: 0.2237\n",
      "Epoch 24/100\n",
      "63919/63919 [==============================] - 109s 2ms/step - loss: 0.1425 - accuracy: 0.2008 - val_loss: 0.1420 - val_accuracy: 0.2220\n",
      "Epoch 25/100\n",
      "63919/63919 [==============================] - 86s 1ms/step - loss: 0.1425 - accuracy: 0.1993 - val_loss: 0.1420 - val_accuracy: 0.1666\n",
      "Epoch 26/100\n",
      "63919/63919 [==============================] - 17s 269us/step - loss: 0.1425 - accuracy: 0.2010 - val_loss: 0.1420 - val_accuracy: 0.2208\n",
      "Epoch 27/100\n",
      "63919/63919 [==============================] - 18s 277us/step - loss: 0.1425 - accuracy: 0.2005 - val_loss: 0.1420 - val_accuracy: 0.2268\n",
      "Epoch 28/100\n",
      "63919/63919 [==============================] - 93s 1ms/step - loss: 0.1424 - accuracy: 0.2028 - val_loss: 0.1420 - val_accuracy: 0.2130\n",
      "Epoch 29/100\n",
      "63919/63919 [==============================] - 102s 2ms/step - loss: 0.1425 - accuracy: 0.2017 - val_loss: 0.1420 - val_accuracy: 0.1850\n",
      "Epoch 30/100\n",
      "63919/63919 [==============================] - 74s 1ms/step - loss: 0.1424 - accuracy: 0.2022 - val_loss: 0.1420 - val_accuracy: 0.2238\n",
      "Epoch 31/100\n",
      "63919/63919 [==============================] - 17s 267us/step - loss: 0.1424 - accuracy: 0.2045 - val_loss: 0.1420 - val_accuracy: 0.2202\n",
      "Epoch 32/100\n",
      "63919/63919 [==============================] - 21s 321us/step - loss: 0.1424 - accuracy: 0.2023 - val_loss: 0.1420 - val_accuracy: 0.2294\n",
      "Epoch 33/100\n",
      "63919/63919 [==============================] - 108s 2ms/step - loss: 0.1424 - accuracy: 0.2028 - val_loss: 0.1420 - val_accuracy: 0.2298\n",
      "Epoch 34/100\n",
      "63919/63919 [==============================] - 102s 2ms/step - loss: 0.1424 - accuracy: 0.2065 - val_loss: 0.1420 - val_accuracy: 0.2071\n",
      "Epoch 35/100\n",
      "63919/63919 [==============================] - 56s 880us/step - loss: 0.1424 - accuracy: 0.2067 - val_loss: 0.1420 - val_accuracy: 0.2321\n",
      "Epoch 36/100\n",
      "63919/63919 [==============================] - 17s 270us/step - loss: 0.1424 - accuracy: 0.2078 - val_loss: 0.1420 - val_accuracy: 0.1956\n",
      "Epoch 37/100\n",
      "63919/63919 [==============================] - 39s 610us/step - loss: 0.1424 - accuracy: 0.2060 - val_loss: 0.1420 - val_accuracy: 0.2184\n",
      "Epoch 38/100\n",
      "63919/63919 [==============================] - 103s 2ms/step - loss: 0.1424 - accuracy: 0.2077 - val_loss: 0.1420 - val_accuracy: 0.2033\n",
      "Epoch 39/100\n",
      "63919/63919 [==============================] - 110s 2ms/step - loss: 0.1424 - accuracy: 0.2071 - val_loss: 0.1420 - val_accuracy: 0.2188\n",
      "Epoch 40/100\n",
      "63919/63919 [==============================] - 34s 533us/step - loss: 0.1424 - accuracy: 0.2080 - val_loss: 0.1420 - val_accuracy: 0.2109\n",
      "Epoch 41/100\n",
      "63919/63919 [==============================] - 17s 268us/step - loss: 0.1424 - accuracy: 0.2059 - val_loss: 0.1420 - val_accuracy: 0.2312\n",
      "Epoch 42/100\n",
      "63919/63919 [==============================] - 60s 943us/step - loss: 0.1424 - accuracy: 0.2072 - val_loss: 0.1420 - val_accuracy: 0.2073\n",
      "Epoch 43/100\n",
      "63919/63919 [==============================] - 102s 2ms/step - loss: 0.1424 - accuracy: 0.2094 - val_loss: 0.1420 - val_accuracy: 0.2303\n",
      "Epoch 44/100\n",
      "63919/63919 [==============================] - 107s 2ms/step - loss: 0.1424 - accuracy: 0.2085 - val_loss: 0.1420 - val_accuracy: 0.2093\n",
      "Epoch 45/100\n",
      "63919/63919 [==============================] - 17s 270us/step - loss: 0.1424 - accuracy: 0.2066 - val_loss: 0.1420 - val_accuracy: 0.2225\n",
      "Epoch 46/100\n",
      "63919/63919 [==============================] - 17s 271us/step - loss: 0.1424 - accuracy: 0.2064 - val_loss: 0.1420 - val_accuracy: 0.1891\n",
      "Epoch 47/100\n",
      "63919/63919 [==============================] - 76s 1ms/step - loss: 0.1424 - accuracy: 0.2086 - val_loss: 0.1420 - val_accuracy: 0.2317\n",
      "Epoch 48/100\n",
      "63919/63919 [==============================] - 110s 2ms/step - loss: 0.1424 - accuracy: 0.2076 - val_loss: 0.1420 - val_accuracy: 0.1785\n",
      "Epoch 49/100\n",
      "63919/63919 [==============================] - 84s 1ms/step - loss: 0.1424 - accuracy: 0.2092 - val_loss: 0.1420 - val_accuracy: 0.1822\n",
      "Epoch 50/100\n",
      "63919/63919 [==============================] - 18s 277us/step - loss: 0.1424 - accuracy: 0.2090 - val_loss: 0.1420 - val_accuracy: 0.2292\n",
      "Epoch 51/100\n",
      "63919/63919 [==============================] - 18s 281us/step - loss: 0.1424 - accuracy: 0.2083 - val_loss: 0.1420 - val_accuracy: 0.2100\n",
      "Epoch 52/100\n",
      "63919/63919 [==============================] - 94s 1ms/step - loss: 0.1424 - accuracy: 0.2082 - val_loss: 0.1419 - val_accuracy: 0.2153\n",
      "Epoch 53/100\n",
      "63919/63919 [==============================] - 110s 2ms/step - loss: 0.1424 - accuracy: 0.2093 - val_loss: 0.1419 - val_accuracy: 0.2069\n",
      "Epoch 54/100\n",
      "63919/63919 [==============================] - 64s 1ms/step - loss: 0.1424 - accuracy: 0.2101 - val_loss: 0.1419 - val_accuracy: 0.2208\n",
      "Epoch 55/100\n",
      "63919/63919 [==============================] - 17s 270us/step - loss: 0.1424 - accuracy: 0.2104 - val_loss: 0.1419 - val_accuracy: 0.2140\n",
      "Epoch 56/100\n",
      "63919/63919 [==============================] - 25s 394us/step - loss: 0.1424 - accuracy: 0.2105 - val_loss: 0.1419 - val_accuracy: 0.2299\n",
      "Epoch 57/100\n",
      "63919/63919 [==============================] - 110s 2ms/step - loss: 0.1424 - accuracy: 0.2107 - val_loss: 0.1419 - val_accuracy: 0.2188\n",
      "Epoch 58/100\n",
      "63919/63919 [==============================] - 109s 2ms/step - loss: 0.1424 - accuracy: 0.2091 - val_loss: 0.1419 - val_accuracy: 0.2205\n",
      "Epoch 59/100\n",
      " 7776/63919 [==>...........................] - ETA: 1:26 - loss: 0.1434 - accuracy: 0.2006"
     ]
    }
   ],
   "source": [
    "model.compile(loss='mse', optimizer='adam', metrics = ['accuracy'])\n",
    "\n",
    "history = model.fit(X_train, y_train,validation_data = (X_test,y_test), epochs=100, batch_size=32)"
   ]
  },
  {
   "cell_type": "code",
   "execution_count": 14,
   "metadata": {
    "collapsed": true,
    "jupyter": {
     "outputs_hidden": true,
     "source_hidden": true
    }
   },
   "outputs": [
    {
     "data": {
      "image/png": "[encoded data removed]",
      "text/plain": [
       "<Figure size 432x288 with 1 Axes>"
      ]
     },
     "metadata": {},
     "output_type": "display_data"
    }
   ],
   "source": [
    "import matplotlib.pyplot as plt\n",
    "plt.plot(history.history['accuracy'])\n",
    "plt.plot(history.history['val_accuracy'])\n",
    "plt.title('Model accuracy')\n",
    "plt.ylabel('Accuracy')\n",
    "plt.xlabel('Epoch')\n",
    "plt.legend(['Train', 'Test'], loc='upper left')\n",
    "plt.show()"
   ]
  },
  {
   "cell_type": "code",
   "execution_count": 22,
   "metadata": {},
   "outputs": [
    {
     "data": {
      "image/png": "[encoded data removed]",
      "text/plain": [
       "<Figure size 432x288 with 1 Axes>"
      ]
     },
     "metadata": {},
     "output_type": "display_data"
    }
   ],
   "source": [
    "plt.plot(history.history['loss']) \n",
    "plt.plot(history.history['val_loss']) \n",
    "plt.title('Model loss') \n",
    "plt.ylabel('Loss') \n",
    "plt.xlabel('Epoch') \n",
    "plt.legend(['Train', 'Test'], loc='upper right') \n",
    "plt.show()"
   ]
  },
  {
   "cell_type": "code",
   "execution_count": null,
   "metadata": {},
   "outputs": [],
   "source": []
  },
  {
   "cell_type": "markdown",
   "metadata": {},
   "source": [
    "<h2>Save Model</h2>"
   ]
  },
  {
   "cell_type": "code",
   "execution_count": 23,
   "metadata": {},
   "outputs": [],
   "source": [
    "import boto3\n",
    "\n",
    "# Convert your existing model to JSON\n",
    "saved_model = model.to_json()\n",
    "\n",
    "# Write JSON object to S3 as \"keras-model.json\"\n",
    "client = boto3.client('s3')"
   ]
  },
  {
   "cell_type": "code",
   "execution_count": 24,
   "metadata": {},
   "outputs": [
    {
     "data": {
      "text/plain": [
       "{'ResponseMetadata': {'RequestId': 'A6369AC292BDD2DA',\n",
       "  'HostId': 'qsRXxacQkJdDRP3IDk6Ki6YbTMR6NEZ0aMAPgeKqD9qDxNNBpT9o3ADqtgJMx2j4hYYScl5W3Ko=',\n",
       "  'HTTPStatusCode': 200,\n",
       "  'HTTPHeaders': {'x-amz-id-2': 'qsRXxacQkJdDRP3IDk6Ki6YbTMR6NEZ0aMAPgeKqD9qDxNNBpT9o3ADqtgJMx2j4hYYScl5W3Ko=',\n",
       "   'x-amz-request-id': 'A6369AC292BDD2DA',\n",
       "   'date': 'Sat, 28 Dec 2019 18:56:47 GMT',\n",
       "   'etag': '\"4493e817677bdd34036b82055169ede5\"',\n",
       "   'content-length': '0',\n",
       "   'server': 'AmazonS3'},\n",
       "  'RetryAttempts': 0},\n",
       " 'ETag': '\"4493e817677bdd34036b82055169ede5\"'}"
      ]
     },
     "execution_count": 24,
     "metadata": {},
     "output_type": "execute_result"
    }
   ],
   "source": [
    "client.put_object(Body=saved_model,\n",
    "                  Bucket='bme-bucket',\n",
    "                  Key='models/keras-model-4.json')"
   ]
  }
 ],
 "metadata": {
  "kernelspec": {
   "display_name": "conda_amazonei_tensorflow_p36",
   "language": "python",
   "name": "conda_amazonei_tensorflow_p36"
  },
  "language_info": {
   "codemirror_mode": {
    "name": "ipython",
    "version": 3
   },
   "file_extension": ".py",
   "mimetype": "text/x-python",
   "name": "python",
   "nbconvert_exporter": "python",
   "pygments_lexer": "ipython3",
   "version": "3.6.5"
  }
 },
 "nbformat": 4,
 "nbformat_minor": 4
}
